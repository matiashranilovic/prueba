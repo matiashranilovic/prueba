{
  "nbformat": 4,
  "nbformat_minor": 0,
  "metadata": {
    "colab": {
      "provenance": [],
      "authorship_tag": "ABX9TyPp4xhCyeh/Fsjyx2SHHDX4",
      "include_colab_link": true
    },
    "kernelspec": {
      "name": "python3",
      "display_name": "Python 3"
    },
    "language_info": {
      "name": "python"
    }
  },
  "cells": [
    {
      "cell_type": "markdown",
      "metadata": {
        "id": "view-in-github",
        "colab_type": "text"
      },
      "source": [
        "<a href=\"https://colab.research.google.com/github/matiashranilovic/prueba/blob/main/pruebaCOLAB.ipynb\" target=\"_parent\"><img src=\"https://colab.research.google.com/assets/colab-badge.svg\" alt=\"Open In Colab\"/></a>"
      ]
    },
    {
      "cell_type": "code",
      "execution_count": null,
      "metadata": {
        "colab": {
          "base_uri": "https://localhost:8080/"
        },
        "id": "wV3rxD2Aj7cO",
        "outputId": "98bc7dfa-0f3b-44f2-90c7-5358e5f83fa7"
      },
      "outputs": [
        {
          "output_type": "stream",
          "name": "stdout",
          "text": [
            "bool\n",
            "11\n",
            "False\n",
            "True\n"
          ]
        }
      ],
      "source": [
        "primera_variable = \"hola mundo\"\n",
        "#print (primera_variable)\n",
        "a = \"hola\"\n",
        "primera_variable\n",
        "b= \"mundo\"\n",
        "c=True\n",
        "d=False\n",
        "c,d\n",
        "type(c)\n",
        "if type(c)==bool:\n",
        "    print(\"bool\")\n",
        "elif type(c)==int:\n",
        "    print(\"entero\")\n",
        "else:\n",
        "    print(\"string\")\n",
        "\n",
        "g=1\n",
        "h=\"10\"\n",
        "\n",
        "print(g+int(h))\n",
        "\n",
        "print(\"hola\"==\"chau\")\n",
        "print(\"hola\"==\"hola\")\n"
      ]
    },
    {
      "cell_type": "code",
      "source": [
        "print(\"hola\"==\"chau\")\n",
        "print(\"hola\"==\"hola\")\n",
        "print(\"matias\" in \"matiashranilovic\")\n",
        "\n",
        "print(10 > 100)"
      ],
      "metadata": {
        "colab": {
          "base_uri": "https://localhost:8080/"
        },
        "id": "7ytcbs1Qk2jZ",
        "outputId": "3c52b8ed-f96a-40cd-ea59-74b36ed9fb40"
      },
      "execution_count": null,
      "outputs": [
        {
          "output_type": "stream",
          "name": "stdout",
          "text": [
            "False\n",
            "True\n",
            "True\n",
            "False\n"
          ]
        }
      ]
    },
    {
      "cell_type": "code",
      "source": [
        "print(\"hola como te va\")"
      ],
      "metadata": {
        "colab": {
          "base_uri": "https://localhost:8080/"
        },
        "id": "f6VoK71P5Ahl",
        "outputId": "bb758d58-5942-4ff4-d287-0fe41eb54348"
      },
      "execution_count": null,
      "outputs": [
        {
          "output_type": "stream",
          "name": "stdout",
          "text": [
            "holacomo te va\n"
          ]
        }
      ]
    },
    {
      "cell_type": "code",
      "source": [
        "texto = \"programacion en python\"\n",
        "print(texto)\n",
        "print(texto.upper())\n",
        "texto[-6:len(texto):1]\n",
        "texto.title()\n",
        "texto.replace(\"python\",\"java\")\n",
        "cadena=texto.split()\n",
        "print(cadena[0])\n",
        "print(cadena[1])\n",
        "print(cadena[2])"
      ],
      "metadata": {
        "id": "_BocJh7LjJc-",
        "outputId": "db50cfb5-0365-47fc-c341-bdfaa8275d0a",
        "colab": {
          "base_uri": "https://localhost:8080/"
        }
      },
      "execution_count": 21,
      "outputs": [
        {
          "output_type": "stream",
          "name": "stdout",
          "text": [
            "programacion en python\n",
            "PROGRAMACION EN PYTHON\n",
            "programacion\n",
            "en\n",
            "python\n"
          ]
        }
      ]
    },
    {
      "cell_type": "code",
      "source": [
        "print(texto.count(\"a\"))\n",
        "print(texto.find(\"a\"))\n",
        "print(texto.find(\"h\"))\n",
        "print(texto.index(\"a\"))\n",
        "print(texto.isascii)"
      ],
      "metadata": {
        "id": "bY7bMnltlBRW",
        "outputId": "df245bc0-4da7-47f8-c73b-26b81f8391e3",
        "colab": {
          "base_uri": "https://localhost:8080/"
        }
      },
      "execution_count": 30,
      "outputs": [
        {
          "output_type": "stream",
          "name": "stdout",
          "text": [
            "2\n",
            "5\n",
            "19\n",
            "5\n",
            "<built-in method isascii of str object at 0x7f7b8b942c40>\n"
          ]
        }
      ]
    }
  ]
}