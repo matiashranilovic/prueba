{
  "nbformat": 4,
  "nbformat_minor": 0,
  "metadata": {
    "colab": {
      "provenance": [],
      "authorship_tag": "ABX9TyN06zKyoNT43qA4uFdt52c2",
      "include_colab_link": true
    },
    "kernelspec": {
      "name": "python3",
      "display_name": "Python 3"
    },
    "language_info": {
      "name": "python"
    }
  },
  "cells": [
    {
      "cell_type": "markdown",
      "metadata": {
        "id": "view-in-github",
        "colab_type": "text"
      },
      "source": [
        "<a href=\"https://colab.research.google.com/github/matiashranilovic/prueba/blob/main/pruebaCOLAB.ipynb\" target=\"_parent\"><img src=\"https://colab.research.google.com/assets/colab-badge.svg\" alt=\"Open In Colab\"/></a>"
      ]
    },
    {
      "cell_type": "code",
      "execution_count": 43,
      "metadata": {
        "colab": {
          "base_uri": "https://localhost:8080/"
        },
        "id": "wV3rxD2Aj7cO",
        "outputId": "98bc7dfa-0f3b-44f2-90c7-5358e5f83fa7"
      },
      "outputs": [
        {
          "output_type": "stream",
          "name": "stdout",
          "text": [
            "bool\n",
            "11\n",
            "False\n",
            "True\n"
          ]
        }
      ],
      "source": [
        "primera_variable = \"hola mundo\"\n",
        "#print (primera_variable)\n",
        "a = \"hola\"\n",
        "primera_variable\n",
        "b= \"mundo\"\n",
        "c=True\n",
        "d=False\n",
        "c,d\n",
        "type(c)\n",
        "if type(c)==bool:\n",
        "    print(\"bool\")\n",
        "elif type(c)==int:\n",
        "    print(\"entero\")\n",
        "else:\n",
        "    print(\"string\")\n",
        "\n",
        "g=1\n",
        "h=\"10\"\n",
        "\n",
        "print(g+int(h))\n",
        "\n",
        "print(\"hola\"==\"chau\")\n",
        "print(\"hola\"==\"hola\")\n"
      ]
    },
    {
      "cell_type": "code",
      "source": [
        "print(\"hola\"==\"chau\")\n",
        "print(\"hola\"==\"hola\")\n",
        "print(\"matias\" in \"matiashranilovic\")\n",
        "\n",
        "print(10 > 100)"
      ],
      "metadata": {
        "colab": {
          "base_uri": "https://localhost:8080/"
        },
        "id": "7ytcbs1Qk2jZ",
        "outputId": "3c52b8ed-f96a-40cd-ea59-74b36ed9fb40"
      },
      "execution_count": 42,
      "outputs": [
        {
          "output_type": "stream",
          "name": "stdout",
          "text": [
            "False\n",
            "True\n",
            "True\n",
            "False\n"
          ]
        }
      ]
    },
    {
      "cell_type": "code",
      "source": [
        "print(\"hola como te va\")"
      ],
      "metadata": {
        "colab": {
          "base_uri": "https://localhost:8080/"
        },
        "id": "f6VoK71P5Ahl",
        "outputId": "bb758d58-5942-4ff4-d287-0fe41eb54348"
      },
      "execution_count": 45,
      "outputs": [
        {
          "output_type": "stream",
          "name": "stdout",
          "text": [
            "holacomo te va\n"
          ]
        }
      ]
    }
  ]
}