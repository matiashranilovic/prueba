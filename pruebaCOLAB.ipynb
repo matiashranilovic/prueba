{
  "nbformat": 4,
  "nbformat_minor": 0,
  "metadata": {
    "colab": {
      "provenance": [],
      "authorship_tag": "ABX9TyO9W0WrKkcr+tZcwu8UNmxd",
      "include_colab_link": true
    },
    "kernelspec": {
      "name": "python3",
      "display_name": "Python 3"
    },
    "language_info": {
      "name": "python"
    }
  },
  "cells": [
    {
      "cell_type": "markdown",
      "metadata": {
        "id": "view-in-github",
        "colab_type": "text"
      },
      "source": [
        "<a href=\"https://colab.research.google.com/github/matiashranilovic/prueba/blob/main/pruebaCOLAB.ipynb\" target=\"_parent\"><img src=\"https://colab.research.google.com/assets/colab-badge.svg\" alt=\"Open In Colab\"/></a>"
      ]
    },
    {
      "cell_type": "code",
      "execution_count": 5,
      "metadata": {
        "colab": {
          "base_uri": "https://localhost:8080/"
        },
        "id": "wV3rxD2Aj7cO",
        "outputId": "877c9899-f303-41b0-c125-a8c422db6e48"
      },
      "outputs": [
        {
          "output_type": "stream",
          "name": "stdout",
          "text": [
            "bool\n",
            "11\n",
            "False\n",
            "True\n"
          ]
        }
      ],
      "source": [
        "primera_variable = \"hola mundo\"\n",
        "#print (primera_variable)\n",
        "a = \"hola\"\n",
        "primera_variable\n",
        "b= \"mundo\"\n",
        "c=True\n",
        "d=False\n",
        "c,d\n",
        "type(c)\n",
        "if type(c)==bool:\n",
        "    print(\"bool\")\n",
        "elif type(c)==int:\n",
        "    print(\"entero\")\n",
        "else:\n",
        "    print(\"string\")\n",
        "\n",
        "g=1\n",
        "h=\"10\"\n",
        "\n",
        "print(g+int(h))\n",
        "\n",
        "print(\"hola\"==\"chau\")\n",
        "print(\"hola\"==\"hola\")\n"
      ]
    },
    {
      "cell_type": "code",
      "source": [
        "print(\"hola\"==\"chau\")\n",
        "print(\"hola\"==\"hola\")\n",
        "print(\"matias\" in \"matiashranilovic\")\n",
        "\n",
        "print(10 > 100)"
      ],
      "metadata": {
        "colab": {
          "base_uri": "https://localhost:8080/"
        },
        "id": "7ytcbs1Qk2jZ",
        "outputId": "104623ee-87bc-45c0-f07e-608aa10c8bee"
      },
      "execution_count": 7,
      "outputs": [
        {
          "output_type": "stream",
          "name": "stdout",
          "text": [
            "False\n",
            "True\n",
            "True\n",
            "False\n"
          ]
        }
      ]
    },
    {
      "cell_type": "code",
      "source": [
        "print(\"hola como te va\")"
      ],
      "metadata": {
        "colab": {
          "base_uri": "https://localhost:8080/"
        },
        "id": "f6VoK71P5Ahl",
        "outputId": "fb438087-66a4-4563-81fd-d13b3038a244"
      },
      "execution_count": 8,
      "outputs": [
        {
          "output_type": "stream",
          "name": "stdout",
          "text": [
            "hola como te va\n"
          ]
        }
      ]
    },
    {
      "cell_type": "code",
      "source": [
        "print(a)"
      ],
      "metadata": {
        "colab": {
          "base_uri": "https://localhost:8080/"
        },
        "id": "2tBZVofLdduv",
        "outputId": "1ba1a8a0-e6df-4e3e-f6e4-84fd4d4b0e9a"
      },
      "execution_count": 6,
      "outputs": [
        {
          "output_type": "stream",
          "name": "stdout",
          "text": [
            "hola\n"
          ]
        }
      ]
    },
    {
      "cell_type": "code",
      "source": [
        "z=5\n",
        "x=6\n",
        "y=8\n",
        "(z+x>y)&(x-z<y)"
      ],
      "metadata": {
        "colab": {
          "base_uri": "https://localhost:8080/"
        },
        "id": "B1zV_0_pdecH",
        "outputId": "12515106-4119-4343-889b-e9f03120d1e8"
      },
      "execution_count": 12,
      "outputs": [
        {
          "output_type": "execute_result",
          "data": {
            "text/plain": [
              "True"
            ]
          },
          "metadata": {},
          "execution_count": 12
        }
      ]
    },
    {
      "cell_type": "markdown",
      "source": [
        "Ejercicio"
      ],
      "metadata": {
        "id": "mUwJKhHsgssh"
      }
    },
    {
      "cell_type": "code",
      "source": [
        "texto_ejercicio = \"Programacion en python\"\n",
        "texto_ejercicio[16::]\n",
        "len(texto_ejercicio)"
      ],
      "metadata": {
        "colab": {
          "base_uri": "https://localhost:8080/"
        },
        "id": "mSEMFdMxgytI",
        "outputId": "2ab86261-ee08-4ba8-a8fe-e0aac8d10e8f"
      },
      "execution_count": 32,
      "outputs": [
        {
          "output_type": "execute_result",
          "data": {
            "text/plain": [
              "22"
            ]
          },
          "metadata": {},
          "execution_count": 32
        }
      ]
    }
  ]
}